{
 "cells": [
  {
   "cell_type": "code",
   "execution_count": 1,
   "id": "bf920b78",
   "metadata": {},
   "outputs": [],
   "source": [
    "import pandas as pd\n",
    "import numpy as np\n",
    "import statsmodels.formula.api as smf\n",
    "from sklearn.decomposition import PCA\n",
    "from sklearn.model_selection import train_test_split \n",
    "from sklearn.preprocessing import StandardScaler\n",
    "from sklearn.feature_selection import r_regression\n",
    "import seaborn as sns\n",
    "fileloc = './mtcars.csv'"
   ]
  },
  {
   "cell_type": "code",
   "execution_count": 2,
   "id": "7c2fe764",
   "metadata": {},
   "outputs": [
    {
     "data": {
      "text/html": [
       "<div>\n",
       "<style scoped>\n",
       "    .dataframe tbody tr th:only-of-type {\n",
       "        vertical-align: middle;\n",
       "    }\n",
       "\n",
       "    .dataframe tbody tr th {\n",
       "        vertical-align: top;\n",
       "    }\n",
       "\n",
       "    .dataframe thead th {\n",
       "        text-align: right;\n",
       "    }\n",
       "</style>\n",
       "<table border=\"1\" class=\"dataframe\">\n",
       "  <thead>\n",
       "    <tr style=\"text-align: right;\">\n",
       "      <th></th>\n",
       "      <th>model</th>\n",
       "      <th>mpg</th>\n",
       "      <th>cyl</th>\n",
       "      <th>disp</th>\n",
       "      <th>hp</th>\n",
       "      <th>drat</th>\n",
       "      <th>wt</th>\n",
       "      <th>qsec</th>\n",
       "      <th>vs</th>\n",
       "      <th>am</th>\n",
       "      <th>gear</th>\n",
       "      <th>carb</th>\n",
       "    </tr>\n",
       "  </thead>\n",
       "  <tbody>\n",
       "    <tr>\n",
       "      <th>0</th>\n",
       "      <td>Mazda RX4</td>\n",
       "      <td>21.0</td>\n",
       "      <td>6</td>\n",
       "      <td>160.0</td>\n",
       "      <td>110</td>\n",
       "      <td>3.90</td>\n",
       "      <td>2.620</td>\n",
       "      <td>16.46</td>\n",
       "      <td>0</td>\n",
       "      <td>1</td>\n",
       "      <td>4</td>\n",
       "      <td>4</td>\n",
       "    </tr>\n",
       "    <tr>\n",
       "      <th>1</th>\n",
       "      <td>Mazda RX4 Wag</td>\n",
       "      <td>21.0</td>\n",
       "      <td>6</td>\n",
       "      <td>160.0</td>\n",
       "      <td>110</td>\n",
       "      <td>3.90</td>\n",
       "      <td>2.875</td>\n",
       "      <td>17.02</td>\n",
       "      <td>0</td>\n",
       "      <td>1</td>\n",
       "      <td>4</td>\n",
       "      <td>4</td>\n",
       "    </tr>\n",
       "    <tr>\n",
       "      <th>2</th>\n",
       "      <td>Datsun 710</td>\n",
       "      <td>22.8</td>\n",
       "      <td>4</td>\n",
       "      <td>108.0</td>\n",
       "      <td>93</td>\n",
       "      <td>3.85</td>\n",
       "      <td>2.320</td>\n",
       "      <td>18.61</td>\n",
       "      <td>1</td>\n",
       "      <td>1</td>\n",
       "      <td>4</td>\n",
       "      <td>1</td>\n",
       "    </tr>\n",
       "    <tr>\n",
       "      <th>3</th>\n",
       "      <td>Hornet 4 Drive</td>\n",
       "      <td>21.4</td>\n",
       "      <td>6</td>\n",
       "      <td>258.0</td>\n",
       "      <td>110</td>\n",
       "      <td>3.08</td>\n",
       "      <td>3.215</td>\n",
       "      <td>19.44</td>\n",
       "      <td>1</td>\n",
       "      <td>0</td>\n",
       "      <td>3</td>\n",
       "      <td>1</td>\n",
       "    </tr>\n",
       "    <tr>\n",
       "      <th>4</th>\n",
       "      <td>Hornet Sportabout</td>\n",
       "      <td>18.7</td>\n",
       "      <td>8</td>\n",
       "      <td>360.0</td>\n",
       "      <td>175</td>\n",
       "      <td>3.15</td>\n",
       "      <td>3.440</td>\n",
       "      <td>17.02</td>\n",
       "      <td>0</td>\n",
       "      <td>0</td>\n",
       "      <td>3</td>\n",
       "      <td>2</td>\n",
       "    </tr>\n",
       "  </tbody>\n",
       "</table>\n",
       "</div>"
      ],
      "text/plain": [
       "               model   mpg  cyl   disp   hp  drat     wt   qsec  vs  am  gear  \\\n",
       "0          Mazda RX4  21.0    6  160.0  110  3.90  2.620  16.46   0   1     4   \n",
       "1      Mazda RX4 Wag  21.0    6  160.0  110  3.90  2.875  17.02   0   1     4   \n",
       "2         Datsun 710  22.8    4  108.0   93  3.85  2.320  18.61   1   1     4   \n",
       "3     Hornet 4 Drive  21.4    6  258.0  110  3.08  3.215  19.44   1   0     3   \n",
       "4  Hornet Sportabout  18.7    8  360.0  175  3.15  3.440  17.02   0   0     3   \n",
       "\n",
       "   carb  \n",
       "0     4  \n",
       "1     4  \n",
       "2     1  \n",
       "3     1  \n",
       "4     2  "
      ]
     },
     "execution_count": 2,
     "metadata": {},
     "output_type": "execute_result"
    }
   ],
   "source": [
    "mtcars = pd.read_csv(fileloc)\n",
    "mtcars.head()"
   ]
  },
  {
   "cell_type": "markdown",
   "id": "6e2f3775",
   "metadata": {},
   "source": [
    "#    Manager's Model"
   ]
  },
  {
   "cell_type": "code",
   "execution_count": 3,
   "id": "dad70b41",
   "metadata": {
    "scrolled": true
   },
   "outputs": [
    {
     "name": "stdout",
     "output_type": "stream",
     "text": [
      "                            OLS Regression Results                            \n",
      "==============================================================================\n",
      "Dep. Variable:                    mpg   R-squared:                       0.831\n",
      "Model:                            OLS   Adj. R-squared:                  0.813\n",
      "Method:                 Least Squares   F-statistic:                     45.85\n",
      "Date:                Mon, 26 Sep 2022   Prob (F-statistic):           6.24e-11\n",
      "Time:                        22:59:40   Log-Likelihood:                -73.946\n",
      "No. Observations:                  32   AIC:                             155.9\n",
      "Df Residuals:                      28   BIC:                             161.8\n",
      "Df Model:                           3                                         \n",
      "Covariance Type:            nonrobust                                         \n",
      "==============================================================================\n",
      "                 coef    std err          t      P>|t|      [0.025      0.975]\n",
      "------------------------------------------------------------------------------\n",
      "Intercept     38.7461      3.399     11.399      0.000      31.784      45.708\n",
      "wt            -3.2464      0.788     -4.120      0.000      -4.860      -1.632\n",
      "cyl           -1.3641      0.614     -2.223      0.034      -2.621      -0.107\n",
      "vs             0.5242      1.627      0.322      0.750      -2.809       3.857\n",
      "==============================================================================\n",
      "Omnibus:                        4.437   Durbin-Watson:                   1.677\n",
      "Prob(Omnibus):                  0.109   Jarque-Bera (JB):                3.253\n",
      "Skew:                           0.769   Prob(JB):                        0.197\n",
      "Kurtosis:                       3.277   Cond. No.                         59.0\n",
      "==============================================================================\n",
      "\n",
      "Notes:\n",
      "[1] Standard Errors assume that the covariance matrix of the errors is correctly specified.\n"
     ]
    }
   ],
   "source": [
    "results = smf.ols('mpg ~ wt + cyl + vs', data = mtcars).fit()\n",
    "#print()\n",
    "print(results.summary())"
   ]
  },
  {
   "cell_type": "markdown",
   "id": "e9ccc64d",
   "metadata": {},
   "source": [
    "# Goal?\n",
    "\n",
    "- Higher R-Squared value\n",
    "\n",
    "- More features with lesser P>|t| values\n",
    "\n",
    "- No multi-collinearity"
   ]
  },
  {
   "cell_type": "markdown",
   "id": "25845aaa",
   "metadata": {},
   "source": [
    "# Domain Knowledge: \n",
    "\n",
    "The knowledge of the product/ industry greatly enhances the decision making process in picking the right features for the model. Domain knowledge helps in understading the data better as a part of Feature Engineering and Data Pre-processing and yields high precision results. Even before running the ML models, with enough product expertise, must be able to figure out the relationships between the independent and the dependent variables. Domain Knowledge also throws light on the type of data in the data set like continuous or categorical, min and max of the features,etc.\n",
    "\n",
    "\n",
    "[1]\tmpg\tMiles/(US) gallon\n",
    "\n",
    "[2]\tcyl\tNumber of cylinders\n",
    "\n",
    "[3]\tdisp\tDisplacement (cu.in.)\n",
    "\n",
    "[4]\thp\tGross horsepower\n",
    "\n",
    "[5]\tdrat\tRear axle ratio\n",
    "\n",
    "[6]\twt\tWeight of engine (1000 lbs)\n",
    "\n",
    "[7]\tqsec\t1/4 mile time\n",
    "\n",
    "[8]\tvs\tEngine (0 = V-shaped, 1 = straight)\n",
    "\n",
    "[9]\tam\tTransmission (0 = automatic, 1 = manual)\n",
    "\n",
    "[10] gear\tNumber of forward gears\n",
    "\n",
    "[11] carb\tNumber of carburetors\n",
    "\n",
    "In the above list of the features in our MTCARS Dataset, the 'wt' of the engine increases as the number of cylinders 'cyl' increase, so they have high correlation. So by dividing wt/cyl , we are trying to undertsnd the effect of this ratio on the 'mpg'.  But we also know higher 'wt' can lead to lower 'mpg'. Also we understand that 'vs' and 'am' are binary data. \n"
   ]
  },
  {
   "cell_type": "markdown",
   "id": "6a956613",
   "metadata": {},
   "source": [
    "# PCA:"
   ]
  },
  {
   "cell_type": "code",
   "execution_count": 4,
   "id": "a58bb6cd",
   "metadata": {},
   "outputs": [],
   "source": [
    "mtcars = pd.read_csv(fileloc)\n",
    "#mtcars.head()"
   ]
  },
  {
   "cell_type": "code",
   "execution_count": 5,
   "id": "f93444a7",
   "metadata": {},
   "outputs": [],
   "source": [
    "mtcarsX=mtcars.drop(['model','mpg'],axis=1)\n",
    "#mtcarsX.head()"
   ]
  },
  {
   "cell_type": "code",
   "execution_count": 6,
   "id": "8c076a31",
   "metadata": {},
   "outputs": [],
   "source": [
    "pca = PCA(n_components=5)             # Initialize pca object to create 2 PCs\n",
    "pcs = pca.fit_transform(mtcarsX)"
   ]
  },
  {
   "cell_type": "code",
   "execution_count": 7,
   "id": "ea7c556f",
   "metadata": {},
   "outputs": [],
   "source": [
    "principal_mtcarsDf = pd.DataFrame(data = pcs\n",
    "             , columns = ['PC1', 'PC2', 'PC3','PC4', 'PC5'])"
   ]
  },
  {
   "cell_type": "code",
   "execution_count": 8,
   "id": "392bb9c9",
   "metadata": {},
   "outputs": [
    {
     "data": {
      "text/plain": [
       "(32, 5)"
      ]
     },
     "execution_count": 8,
     "metadata": {},
     "output_type": "execute_result"
    }
   ],
   "source": [
    "principal_mtcarsDf.shape"
   ]
  },
  {
   "cell_type": "code",
   "execution_count": 9,
   "id": "41c2dc33",
   "metadata": {},
   "outputs": [
    {
     "name": "stdout",
     "output_type": "stream",
     "text": [
      "Variable Weights for each PC\n"
     ]
    },
    {
     "data": {
      "text/html": [
       "<div>\n",
       "<style scoped>\n",
       "    .dataframe tbody tr th:only-of-type {\n",
       "        vertical-align: middle;\n",
       "    }\n",
       "\n",
       "    .dataframe tbody tr th {\n",
       "        vertical-align: top;\n",
       "    }\n",
       "\n",
       "    .dataframe thead th {\n",
       "        text-align: right;\n",
       "    }\n",
       "</style>\n",
       "<table border=\"1\" class=\"dataframe\">\n",
       "  <thead>\n",
       "    <tr style=\"text-align: right;\">\n",
       "      <th></th>\n",
       "      <th>PC1</th>\n",
       "      <th>PC2</th>\n",
       "      <th>PC3</th>\n",
       "      <th>PC4</th>\n",
       "      <th>PC5</th>\n",
       "    </tr>\n",
       "  </thead>\n",
       "  <tbody>\n",
       "    <tr>\n",
       "      <th>wt</th>\n",
       "      <td>0.012043</td>\n",
       "      <td>0.003374</td>\n",
       "      <td>-0.197386</td>\n",
       "      <td>0.045673</td>\n",
       "      <td>0.794562</td>\n",
       "    </tr>\n",
       "    <tr>\n",
       "      <th>cyl</th>\n",
       "      <td>0.900235</td>\n",
       "      <td>-0.435049</td>\n",
       "      <td>-0.006952</td>\n",
       "      <td>0.003278</td>\n",
       "      <td>-0.014249</td>\n",
       "    </tr>\n",
       "    <tr>\n",
       "      <th>disp</th>\n",
       "      <td>0.435074</td>\n",
       "      <td>0.899511</td>\n",
       "      <td>0.033211</td>\n",
       "      <td>-0.021518</td>\n",
       "      <td>0.000733</td>\n",
       "    </tr>\n",
       "    <tr>\n",
       "      <th>hp</th>\n",
       "      <td>-0.002661</td>\n",
       "      <td>0.003902</td>\n",
       "      <td>-0.069805</td>\n",
       "      <td>0.023723</td>\n",
       "      <td>-0.289140</td>\n",
       "    </tr>\n",
       "    <tr>\n",
       "      <th>drat</th>\n",
       "      <td>0.006243</td>\n",
       "      <td>-0.004864</td>\n",
       "      <td>0.161609</td>\n",
       "      <td>0.320660</td>\n",
       "      <td>0.099932</td>\n",
       "    </tr>\n",
       "    <tr>\n",
       "      <th>qsec</th>\n",
       "      <td>-0.006677</td>\n",
       "      <td>-0.025019</td>\n",
       "      <td>0.901614</td>\n",
       "      <td>0.183819</td>\n",
       "      <td>0.033432</td>\n",
       "    </tr>\n",
       "    <tr>\n",
       "      <th>vs</th>\n",
       "      <td>-0.002731</td>\n",
       "      <td>-0.002199</td>\n",
       "      <td>0.171546</td>\n",
       "      <td>-0.031256</td>\n",
       "      <td>-0.106447</td>\n",
       "    </tr>\n",
       "    <tr>\n",
       "      <th>am</th>\n",
       "      <td>-0.001963</td>\n",
       "      <td>0.005796</td>\n",
       "      <td>-0.153197</td>\n",
       "      <td>-0.040176</td>\n",
       "      <td>-0.253774</td>\n",
       "    </tr>\n",
       "    <tr>\n",
       "      <th>gear</th>\n",
       "      <td>-0.002606</td>\n",
       "      <td>0.011275</td>\n",
       "      <td>-0.142631</td>\n",
       "      <td>0.119640</td>\n",
       "      <td>-0.443963</td>\n",
       "    </tr>\n",
       "    <tr>\n",
       "      <th>carb</th>\n",
       "      <td>0.005768</td>\n",
       "      <td>0.027777</td>\n",
       "      <td>-0.206758</td>\n",
       "      <td>0.918347</td>\n",
       "      <td>-0.030451</td>\n",
       "    </tr>\n",
       "  </tbody>\n",
       "</table>\n",
       "</div>"
      ],
      "text/plain": [
       "           PC1       PC2       PC3       PC4       PC5\n",
       "wt    0.012043  0.003374 -0.197386  0.045673  0.794562\n",
       "cyl   0.900235 -0.435049 -0.006952  0.003278 -0.014249\n",
       "disp  0.435074  0.899511  0.033211 -0.021518  0.000733\n",
       "hp   -0.002661  0.003902 -0.069805  0.023723 -0.289140\n",
       "drat  0.006243 -0.004864  0.161609  0.320660  0.099932\n",
       "qsec -0.006677 -0.025019  0.901614  0.183819  0.033432\n",
       "vs   -0.002731 -0.002199  0.171546 -0.031256 -0.106447\n",
       "am   -0.001963  0.005796 -0.153197 -0.040176 -0.253774\n",
       "gear -0.002606  0.011275 -0.142631  0.119640 -0.443963\n",
       "carb  0.005768  0.027777 -0.206758  0.918347 -0.030451"
      ]
     },
     "execution_count": 9,
     "metadata": {},
     "output_type": "execute_result"
    }
   ],
   "source": [
    "pcs_Components_df = pd.DataFrame(pca.components_.transpose(), columns=['PC1','PC2', 'PC3','PC4', 'PC5'],index=['wt','cyl','disp', 'hp','drat','qsec','vs','am','gear','carb'])\n",
    "\n",
    "print('Variable Weights for each PC')\n",
    "pcs_Components_df"
   ]
  },
  {
   "cell_type": "markdown",
   "id": "54691bfa",
   "metadata": {},
   "source": [
    "Here, we get weightage of the features for each PC.\n",
    "\n",
    "-------------------------\n",
    "For PC1:\n",
    "\n",
    "hp, qsec, vs, am, gear (-)\n",
    "\n",
    "wt, cyl, disp carb (+)\n",
    "\n",
    "--------------------------\n",
    "\n",
    "For PC2:\n",
    "\n",
    "cyl, drat, qsec, vs (-)\n",
    "\n",
    "wt, disp, carb (+)\n",
    "\n",
    "--------------------------\n",
    "\n",
    "For PC3:\n",
    "\n",
    "wt, cyl, hp, am, gear, carb (-)\n",
    "\n",
    "drat, disp, vs, qsec (+)"
   ]
  },
  {
   "cell_type": "code",
   "execution_count": 10,
   "id": "e63d273c",
   "metadata": {},
   "outputs": [
    {
     "name": "stdout",
     "output_type": "stream",
     "text": [
      "PCA Summary\n"
     ]
    },
    {
     "data": {
      "text/html": [
       "<div>\n",
       "<style scoped>\n",
       "    .dataframe tbody tr th:only-of-type {\n",
       "        vertical-align: middle;\n",
       "    }\n",
       "\n",
       "    .dataframe tbody tr th {\n",
       "        vertical-align: top;\n",
       "    }\n",
       "\n",
       "    .dataframe thead th {\n",
       "        text-align: right;\n",
       "    }\n",
       "</style>\n",
       "<table border=\"1\" class=\"dataframe\">\n",
       "  <thead>\n",
       "    <tr style=\"text-align: right;\">\n",
       "      <th></th>\n",
       "      <th>PC1</th>\n",
       "      <th>PC2</th>\n",
       "      <th>PC3</th>\n",
       "      <th>PC4</th>\n",
       "      <th>PC5</th>\n",
       "    </tr>\n",
       "  </thead>\n",
       "  <tbody>\n",
       "    <tr>\n",
       "      <th>Standard deviation</th>\n",
       "      <td>136.433870</td>\n",
       "      <td>38.146476</td>\n",
       "      <td>1.315422</td>\n",
       "      <td>0.965528</td>\n",
       "      <td>0.767895</td>\n",
       "    </tr>\n",
       "    <tr>\n",
       "      <th>Proportion of variance</th>\n",
       "      <td>0.927328</td>\n",
       "      <td>0.072493</td>\n",
       "      <td>0.000086</td>\n",
       "      <td>0.000046</td>\n",
       "      <td>0.000029</td>\n",
       "    </tr>\n",
       "    <tr>\n",
       "      <th>Cumulative proportion</th>\n",
       "      <td>0.927328</td>\n",
       "      <td>0.999821</td>\n",
       "      <td>0.999907</td>\n",
       "      <td>0.999954</td>\n",
       "      <td>0.999983</td>\n",
       "    </tr>\n",
       "  </tbody>\n",
       "</table>\n",
       "</div>"
      ],
      "text/plain": [
       "                               PC1        PC2       PC3       PC4       PC5\n",
       "Standard deviation      136.433870  38.146476  1.315422  0.965528  0.767895\n",
       "Proportion of variance    0.927328   0.072493  0.000086  0.000046  0.000029\n",
       "Cumulative proportion     0.927328   0.999821  0.999907  0.999954  0.999983"
      ]
     },
     "execution_count": 10,
     "metadata": {},
     "output_type": "execute_result"
    }
   ],
   "source": [
    "pcs_Summary = pd.DataFrame({'Standard deviation': np.sqrt(pca.explained_variance_),\n",
    "                            'Proportion of variance': pca.explained_variance_ratio_,\n",
    "                            'Cumulative proportion': np.cumsum(pca.explained_variance_ratio_)\n",
    "                           })\n",
    "pcs_Summary = pcs_Summary.transpose()\n",
    "pcs_Summary.columns = ['PC{}'.format(i) for i in range(1, len(pcs_Summary.columns) + 1)]\n",
    "pcs_Summary.round(4)\n",
    "\n",
    "print('PCA Summary')\n",
    "pcs_Summary"
   ]
  },
  {
   "cell_type": "code",
   "execution_count": 11,
   "id": "2b041d60",
   "metadata": {},
   "outputs": [
    {
     "name": "stdout",
     "output_type": "stream",
     "text": [
      "\n",
      "                            OLS Regression Results                            \n",
      "==============================================================================\n",
      "Dep. Variable:                    mpg   R-squared:                       0.859\n",
      "Model:                            OLS   Adj. R-squared:                  0.832\n",
      "Method:                 Least Squares   F-statistic:                     31.81\n",
      "Date:                Mon, 26 Sep 2022   Prob (F-statistic):           2.73e-10\n",
      "Time:                        22:59:40   Log-Likelihood:                -70.977\n",
      "No. Observations:                  32   AIC:                             154.0\n",
      "Df Residuals:                      26   BIC:                             162.7\n",
      "Df Model:                           5                                         \n",
      "Covariance Type:            nonrobust                                         \n",
      "==============================================================================\n",
      "                 coef    std err          t      P>|t|      [0.025      0.975]\n",
      "------------------------------------------------------------------------------\n",
      "Intercept      8.5778      9.708      0.884      0.385     -11.377      28.532\n",
      "wt            -5.0151      2.385     -2.103      0.045      -9.917      -0.113\n",
      "wt:cyl         0.1575      0.223      0.707      0.486      -0.300       0.615\n",
      "qsec           1.3352      0.562      2.374      0.025       0.179       2.491\n",
      "am             3.7905      1.553      2.442      0.022       0.599       6.982\n",
      "carb          -0.3793      0.452     -0.838      0.409      -1.309       0.551\n",
      "==============================================================================\n",
      "Omnibus:                        1.753   Durbin-Watson:                   1.843\n",
      "Prob(Omnibus):                  0.416   Jarque-Bera (JB):                1.453\n",
      "Skew:                           0.360   Prob(JB):                        0.484\n",
      "Kurtosis:                       2.244   Cond. No.                         660.\n",
      "==============================================================================\n",
      "\n",
      "Notes:\n",
      "[1] Standard Errors assume that the covariance matrix of the errors is correctly specified.\n"
     ]
    }
   ],
   "source": [
    "resultsNewPC3 = smf.ols('mpg ~  wt/cyl+qsec+am+carb', data = mtcars).fit() #took variables with higher weights from PC3\n",
    "print()\n",
    "print(resultsNewPC3.summary())\n",
    "\n",
    "#'mpg ~  qsec + wt*vs/cyl +drat+am' - 88.2\n",
    "#'mpg ~  qsec + wt*vs/cyl+hp +drat+am' - 89\n",
    "#mpg ~  wt*vs/cyl+qsec+am+carb' - 87.9"
   ]
  },
  {
   "cell_type": "code",
   "execution_count": 12,
   "id": "c43e93d6",
   "metadata": {},
   "outputs": [
    {
     "name": "stdout",
     "output_type": "stream",
     "text": [
      "\n",
      "                            OLS Regression Results                            \n",
      "==============================================================================\n",
      "Dep. Variable:                    mpg   R-squared:                       0.856\n",
      "Model:                            OLS   Adj. R-squared:                  0.828\n",
      "Method:                 Least Squares   F-statistic:                     30.88\n",
      "Date:                Mon, 26 Sep 2022   Prob (F-statistic):           3.78e-10\n",
      "Time:                        22:59:40   Log-Likelihood:                -71.385\n",
      "No. Observations:                  32   AIC:                             154.8\n",
      "Df Residuals:                      26   BIC:                             163.6\n",
      "Df Model:                           5                                         \n",
      "Covariance Type:            nonrobust                                         \n",
      "==============================================================================\n",
      "                 coef    std err          t      P>|t|      [0.025      0.975]\n",
      "------------------------------------------------------------------------------\n",
      "Intercept      4.2150      8.806      0.479      0.636     -13.886      22.316\n",
      "wt            -5.9506      2.121     -2.806      0.009     -10.310      -1.591\n",
      "wt:cyl         0.1964      0.255      0.772      0.447      -0.327       0.720\n",
      "disp           0.0023      0.013      0.177      0.861      -0.024       0.028\n",
      "qsec           1.6184      0.473      3.422      0.002       0.646       2.591\n",
      "am             3.5542      1.556      2.284      0.031       0.355       6.753\n",
      "==============================================================================\n",
      "Omnibus:                        2.773   Durbin-Watson:                   1.868\n",
      "Prob(Omnibus):                  0.250   Jarque-Bera (JB):                2.270\n",
      "Skew:                           0.528   Prob(JB):                        0.321\n",
      "Kurtosis:                       2.234   Cond. No.                     5.30e+03\n",
      "==============================================================================\n",
      "\n",
      "Notes:\n",
      "[1] Standard Errors assume that the covariance matrix of the errors is correctly specified.\n",
      "[2] The condition number is large, 5.3e+03. This might indicate that there are\n",
      "strong multicollinearity or other numerical problems.\n"
     ]
    }
   ],
   "source": [
    "resultsNewPC2 = smf.ols('mpg ~  wt/cyl+disp +qsec+am', data = mtcars).fit() #took variables with higher weights from PC2\n",
    "print()\n",
    "print(resultsNewPC2.summary())\n",
    "\n",
    "#mpg ~  disp+wt*vs/cyl+qsec+am*gear -88.9\n",
    "#mpg ~  wt/cyl+disp +qsec+am' - 85.8"
   ]
  },
  {
   "cell_type": "code",
   "execution_count": 13,
   "id": "b2057655",
   "metadata": {},
   "outputs": [
    {
     "name": "stdout",
     "output_type": "stream",
     "text": [
      "\n",
      "                            OLS Regression Results                            \n",
      "==============================================================================\n",
      "Dep. Variable:                    mpg   R-squared:                       0.833\n",
      "Model:                            OLS   Adj. R-squared:                  0.815\n",
      "Method:                 Least Squares   F-statistic:                     46.42\n",
      "Date:                Mon, 26 Sep 2022   Prob (F-statistic):           5.40e-11\n",
      "Time:                        22:59:40   Log-Likelihood:                -73.779\n",
      "No. Observations:                  32   AIC:                             155.6\n",
      "Df Residuals:                      28   BIC:                             161.4\n",
      "Df Model:                           3                                         \n",
      "Covariance Type:            nonrobust                                         \n",
      "==============================================================================\n",
      "                 coef    std err          t      P>|t|      [0.025      0.975]\n",
      "------------------------------------------------------------------------------\n",
      "Intercept     41.1077      2.842     14.462      0.000      35.285      46.930\n",
      "cyl           -1.7849      0.607     -2.940      0.007      -3.029      -0.541\n",
      "disp           0.0075      0.012      0.631      0.533      -0.017       0.032\n",
      "wt            -3.6357      1.040     -3.495      0.002      -5.766      -1.505\n",
      "==============================================================================\n",
      "Omnibus:                        4.425   Durbin-Watson:                   1.707\n",
      "Prob(Omnibus):                  0.109   Jarque-Bera (JB):                3.145\n",
      "Skew:                           0.746   Prob(JB):                        0.208\n",
      "Kurtosis:                       3.361   Cond. No.                     1.68e+03\n",
      "==============================================================================\n",
      "\n",
      "Notes:\n",
      "[1] Standard Errors assume that the covariance matrix of the errors is correctly specified.\n",
      "[2] The condition number is large, 1.68e+03. This might indicate that there are\n",
      "strong multicollinearity or other numerical problems.\n"
     ]
    }
   ],
   "source": [
    "resultsNewPC1 = smf.ols('mpg ~  cyl +disp+wt', data = mtcars).fit() #took variables with higher weights from PC1\n",
    "print()\n",
    "print(resultsNewPC1.summary())"
   ]
  },
  {
   "cell_type": "markdown",
   "id": "b573f371",
   "metadata": {},
   "source": [
    "### Using PCA Components in OLS Regression\n",
    "\n",
    "The Principal Components are obtained in the order of their impact on variance. So the hypothesis is that the features which have higher impact on PC1 will have higher relation with the output. But from the abve experiment PCA Analysis, we got: \n",
    "\n",
    "PC1 - marginal improvement from Manager's Model but high Multi-collinearity.\n",
    "\n",
    "PC2 - 1.8 more than Manager's Model but high Multi-collinearity.\n",
    "\n",
    "PC3 - 2.8 more than Manager's Model."
   ]
  },
  {
   "cell_type": "markdown",
   "id": "ef4cf9b6",
   "metadata": {},
   "source": [
    "# Correlation"
   ]
  },
  {
   "cell_type": "code",
   "execution_count": 14,
   "id": "5b79e627",
   "metadata": {},
   "outputs": [],
   "source": [
    "mtcars = pd.read_csv(fileloc)\n",
    "#mtcars.head()"
   ]
  },
  {
   "cell_type": "code",
   "execution_count": 15,
   "id": "d50f3606",
   "metadata": {},
   "outputs": [],
   "source": [
    "mtcarsY=mtcars.loc[:,'mpg']\n",
    "#mtcarsY.head()"
   ]
  },
  {
   "cell_type": "code",
   "execution_count": 16,
   "id": "bdee3aee",
   "metadata": {},
   "outputs": [
    {
     "data": {
      "text/plain": [
       "(1, 10)"
      ]
     },
     "execution_count": 16,
     "metadata": {},
     "output_type": "execute_result"
    }
   ],
   "source": [
    "correl = r_regression(mtcarsX,mtcarsY)\n",
    "correl = correl.reshape(1,10)\n",
    "correl.shape"
   ]
  },
  {
   "cell_type": "code",
   "execution_count": 17,
   "id": "f35b0e9d",
   "metadata": {},
   "outputs": [
    {
     "data": {
      "text/plain": [
       "Index(['cyl', 'disp', 'hp', 'drat', 'wt', 'qsec', 'vs', 'am', 'gear', 'carb'], dtype='object')"
      ]
     },
     "execution_count": 17,
     "metadata": {},
     "output_type": "execute_result"
    }
   ],
   "source": [
    "mtcarsX.columns"
   ]
  },
  {
   "cell_type": "code",
   "execution_count": 18,
   "id": "db22ea9f",
   "metadata": {},
   "outputs": [],
   "source": [
    "mtcarsX.head(0)\n",
    "\n",
    "CorrelationDF = pd.DataFrame(data=correl)\n",
    "CorrelationDF.columns = mtcarsX.columns"
   ]
  },
  {
   "cell_type": "code",
   "execution_count": 19,
   "id": "5a465178",
   "metadata": {},
   "outputs": [
    {
     "data": {
      "text/html": [
       "<div>\n",
       "<style scoped>\n",
       "    .dataframe tbody tr th:only-of-type {\n",
       "        vertical-align: middle;\n",
       "    }\n",
       "\n",
       "    .dataframe tbody tr th {\n",
       "        vertical-align: top;\n",
       "    }\n",
       "\n",
       "    .dataframe thead th {\n",
       "        text-align: right;\n",
       "    }\n",
       "</style>\n",
       "<table border=\"1\" class=\"dataframe\">\n",
       "  <thead>\n",
       "    <tr style=\"text-align: right;\">\n",
       "      <th></th>\n",
       "      <th>cyl</th>\n",
       "      <th>disp</th>\n",
       "      <th>hp</th>\n",
       "      <th>drat</th>\n",
       "      <th>wt</th>\n",
       "      <th>qsec</th>\n",
       "      <th>vs</th>\n",
       "      <th>am</th>\n",
       "      <th>gear</th>\n",
       "      <th>carb</th>\n",
       "    </tr>\n",
       "  </thead>\n",
       "  <tbody>\n",
       "    <tr>\n",
       "      <th>0</th>\n",
       "      <td>-0.852162</td>\n",
       "      <td>-0.847551</td>\n",
       "      <td>-0.776168</td>\n",
       "      <td>0.681172</td>\n",
       "      <td>-0.867659</td>\n",
       "      <td>0.418684</td>\n",
       "      <td>0.664039</td>\n",
       "      <td>0.599832</td>\n",
       "      <td>0.480285</td>\n",
       "      <td>-0.550925</td>\n",
       "    </tr>\n",
       "  </tbody>\n",
       "</table>\n",
       "</div>"
      ],
      "text/plain": [
       "        cyl      disp        hp      drat        wt      qsec        vs  \\\n",
       "0 -0.852162 -0.847551 -0.776168  0.681172 -0.867659  0.418684  0.664039   \n",
       "\n",
       "         am      gear      carb  \n",
       "0  0.599832  0.480285 -0.550925  "
      ]
     },
     "execution_count": 19,
     "metadata": {},
     "output_type": "execute_result"
    }
   ],
   "source": [
    "CorrelationDF"
   ]
  },
  {
   "cell_type": "code",
   "execution_count": 20,
   "id": "5e0338a3",
   "metadata": {},
   "outputs": [
    {
     "name": "stdout",
     "output_type": "stream",
     "text": [
      "\n",
      "                            OLS Regression Results                            \n",
      "==============================================================================\n",
      "Dep. Variable:                    mpg   R-squared:                       0.851\n",
      "Model:                            OLS   Adj. R-squared:                  0.823\n",
      "Method:                 Least Squares   F-statistic:                     29.77\n",
      "Date:                Mon, 26 Sep 2022   Prob (F-statistic):           5.62e-10\n",
      "Time:                        22:59:41   Log-Likelihood:                -71.883\n",
      "No. Observations:                  32   AIC:                             155.8\n",
      "Df Residuals:                      26   BIC:                             164.6\n",
      "Df Model:                           5                                         \n",
      "Covariance Type:            nonrobust                                         \n",
      "==============================================================================\n",
      "                 coef    std err          t      P>|t|      [0.025      0.975]\n",
      "------------------------------------------------------------------------------\n",
      "Intercept     36.0084      7.571      4.756      0.000      20.445      51.572\n",
      "wt            -3.6733      1.059     -3.469      0.002      -5.850      -1.496\n",
      "disp           0.0124      0.012      1.039      0.308      -0.012       0.037\n",
      "cyl           -1.1075      0.716     -1.547      0.134      -2.579       0.364\n",
      "hp            -0.0240      0.013     -1.809      0.082      -0.051       0.003\n",
      "drat           0.9522      1.391      0.685      0.500      -1.907       3.811\n",
      "==============================================================================\n",
      "Omnibus:                        5.702   Durbin-Watson:                   1.850\n",
      "Prob(Omnibus):                  0.058   Jarque-Bera (JB):                4.435\n",
      "Skew:                           0.895   Prob(JB):                        0.109\n",
      "Kurtosis:                       3.349   Cond. No.                     5.23e+03\n",
      "==============================================================================\n",
      "\n",
      "Notes:\n",
      "[1] Standard Errors assume that the covariance matrix of the errors is correctly specified.\n",
      "[2] The condition number is large, 5.23e+03. This might indicate that there are\n",
      "strong multicollinearity or other numerical problems.\n"
     ]
    }
   ],
   "source": [
    "resultsCor = smf.ols('mpg ~  wt+disp+cyl+hp+drat', data = mtcars).fit()\n",
    "print()\n",
    "print(resultsCor.summary())"
   ]
  },
  {
   "cell_type": "markdown",
   "id": "5dc8c081",
   "metadata": {},
   "source": [
    "### Using Correlation in OLS Regression\n",
    "\n",
    "The Correlation matrix gives the Correlation between the dependent variable and the individual independent variables. Here we see that 'wt' clearly has the highest correlation with 'mpg' followed by disp ,cyl , hp and drat. When these features are fitted in the model, the R-Squared increased from 83.1 to 85.1 but the multi-collinearity between the features in too high (Condition Number)."
   ]
  },
  {
   "cell_type": "markdown",
   "id": "fbcbf85a",
   "metadata": {},
   "source": [
    "# Multi-collinearity:"
   ]
  },
  {
   "cell_type": "code",
   "execution_count": 21,
   "id": "1bb17881",
   "metadata": {},
   "outputs": [
    {
     "name": "stdout",
     "output_type": "stream",
     "text": [
      "  feature         VIF\n",
      "0     cyl  112.629828\n",
      "1    disp   98.930791\n",
      "2      hp   56.047781\n",
      "3    drat  132.214353\n",
      "4      wt  182.948049\n",
      "5    qsec  317.534376\n",
      "6      vs    8.752581\n",
      "7      am    7.412020\n",
      "8    gear  119.804879\n",
      "9    carb   32.213836\n"
     ]
    }
   ],
   "source": [
    "from statsmodels.stats.outliers_influence import variance_inflation_factor\n",
    "    \n",
    "# VIF dataframe\n",
    "vif_data = pd.DataFrame()\n",
    "vif_data[\"feature\"] = mtcarsX.columns\n",
    "  \n",
    "# calculating VIF for each feature\n",
    "vif_data[\"VIF\"] = [variance_inflation_factor(mtcarsX.values, i)\n",
    "                          for i in range(len(mtcarsX.columns))]\n",
    "  \n",
    "print(vif_data)"
   ]
  },
  {
   "cell_type": "code",
   "execution_count": 22,
   "id": "8212642c",
   "metadata": {},
   "outputs": [
    {
     "name": "stdout",
     "output_type": "stream",
     "text": [
      "\n",
      "                            OLS Regression Results                            \n",
      "==============================================================================\n",
      "Dep. Variable:                    mpg   R-squared:                       0.879\n",
      "Model:                            OLS   Adj. R-squared:                  0.843\n",
      "Method:                 Least Squares   F-statistic:                     24.83\n",
      "Date:                Mon, 26 Sep 2022   Prob (F-statistic):           1.59e-09\n",
      "Time:                        22:59:41   Log-Likelihood:                -68.630\n",
      "No. Observations:                  32   AIC:                             153.3\n",
      "Df Residuals:                      24   BIC:                             165.0\n",
      "Df Model:                           7                                         \n",
      "Covariance Type:            nonrobust                                         \n",
      "==============================================================================\n",
      "                 coef    std err          t      P>|t|      [0.025      0.975]\n",
      "------------------------------------------------------------------------------\n",
      "Intercept      7.3669      9.615      0.766      0.451     -12.478      27.212\n",
      "wt            -3.3006      0.903     -3.656      0.001      -5.164      -1.438\n",
      "vs             8.2680      4.210      1.964      0.061      -0.421      16.957\n",
      "wt:vs         -4.1327      2.729     -1.514      0.143      -9.766       1.501\n",
      "wt:vs:cyl      0.2312      0.337      0.687      0.499      -0.464       0.926\n",
      "qsec           1.2675      0.544      2.329      0.029       0.144       2.391\n",
      "am             2.4879      1.602      1.553      0.134      -0.819       5.795\n",
      "carb          -0.1565      0.448     -0.349      0.730      -1.082       0.769\n",
      "==============================================================================\n",
      "Omnibus:                        1.613   Durbin-Watson:                   2.132\n",
      "Prob(Omnibus):                  0.446   Jarque-Bera (JB):                1.507\n",
      "Skew:                           0.469   Prob(JB):                        0.471\n",
      "Kurtosis:                       2.500   Cond. No.                         451.\n",
      "==============================================================================\n",
      "\n",
      "Notes:\n",
      "[1] Standard Errors assume that the covariance matrix of the errors is correctly specified.\n"
     ]
    }
   ],
   "source": [
    "resultsVIF = smf.ols('mpg ~  wt*vs/cyl+qsec+am+carb', data = mtcars).fit()\n",
    "print()\n",
    "print(resultsVIF.summary())\n",
    "#'mpg ~  wt*vs/cyl+qsec+am+carb' - 87.9 with no multicollienearity"
   ]
  },
  {
   "cell_type": "markdown",
   "id": "262cead3",
   "metadata": {},
   "source": [
    "### Understanding Multi-Collinearity in OLS Regression\n",
    "\n",
    "To understand the multi-collinearity between the independent features, we introduce the VIF (Variance Inflation Factor) that tells the correlation of each feature with every other feature in the data set. Here we observe that 'vs', 'am' and 'carb' have low multi-collinearity these features were additionally fitted into the model to improve the R-Squared while the primary goal is to reduce the multi-collinearity (Condition Number). Here using Multi-collinearity concept, we could improve the R-squared to 0.879 from initial 0.831."
   ]
  },
  {
   "cell_type": "markdown",
   "id": "900d53ad",
   "metadata": {},
   "source": [
    "# Standardization:"
   ]
  },
  {
   "cell_type": "code",
   "execution_count": 23,
   "id": "6340fbaa",
   "metadata": {},
   "outputs": [],
   "source": [
    "mtcarsZ=mtcars.drop(['model'],axis=1)\n",
    "#mtcarsZ.head()"
   ]
  },
  {
   "cell_type": "code",
   "execution_count": 24,
   "id": "1403966c",
   "metadata": {},
   "outputs": [],
   "source": [
    "mtcarsY=mtcars.loc[:,'mpg']\n",
    "#mtcarsY.head()"
   ]
  },
  {
   "cell_type": "code",
   "execution_count": 25,
   "id": "ac5644db",
   "metadata": {},
   "outputs": [],
   "source": [
    "mtcarsStd= StandardScaler()\n",
    "mtcarsStd.fit(mtcarsZ)\n",
    "mtcarsScaled = mtcarsStd.transform(mtcarsZ)\n",
    "columns_names=mtcarsZ.columns\n",
    "mtcarsScaled =pd.DataFrame(mtcarsScaled,columns=columns_names)\n",
    "#mtcarsScaled"
   ]
  },
  {
   "cell_type": "code",
   "execution_count": 26,
   "id": "a653164e",
   "metadata": {},
   "outputs": [
    {
     "name": "stdout",
     "output_type": "stream",
     "text": [
      "\n",
      "                            OLS Regression Results                            \n",
      "==============================================================================\n",
      "Dep. Variable:                    mpg   R-squared:                       0.886\n",
      "Model:                            OLS   Adj. R-squared:                  0.852\n",
      "Method:                 Least Squares   F-statistic:                     26.53\n",
      "Date:                Mon, 26 Sep 2022   Prob (F-statistic):           8.03e-10\n",
      "Time:                        22:59:41   Log-Likelihood:                -10.722\n",
      "No. Observations:                  32   AIC:                             37.44\n",
      "Df Residuals:                      24   BIC:                             49.17\n",
      "Df Model:                           7                                         \n",
      "Covariance Type:            nonrobust                                         \n",
      "==============================================================================\n",
      "                 coef    std err          t      P>|t|      [0.025      0.975]\n",
      "------------------------------------------------------------------------------\n",
      "Intercept     -0.1708      0.098     -1.739      0.095      -0.374       0.032\n",
      "wt            -1.0573      0.299     -3.532      0.002      -1.675      -0.440\n",
      "vs             0.0576      0.166      0.347      0.732      -0.285       0.400\n",
      "wt:vs         -0.3385      0.141     -2.408      0.024      -0.629      -0.048\n",
      "wt:vs:cyl     -0.3295      0.236     -1.395      0.176      -0.817       0.158\n",
      "qsec           0.2768      0.145      1.905      0.069      -0.023       0.577\n",
      "am             0.1163      0.138      0.845      0.406      -0.168       0.400\n",
      "carb          -0.0155      0.119     -0.130      0.897      -0.260       0.229\n",
      "==============================================================================\n",
      "Omnibus:                        0.579   Durbin-Watson:                   2.218\n",
      "Prob(Omnibus):                  0.748   Jarque-Bera (JB):                0.579\n",
      "Skew:                           0.287   Prob(JB):                        0.749\n",
      "Kurtosis:                       2.675   Cond. No.                         11.1\n",
      "==============================================================================\n",
      "\n",
      "Notes:\n",
      "[1] Standard Errors assume that the covariance matrix of the errors is correctly specified.\n"
     ]
    }
   ],
   "source": [
    "resultsStd = smf.ols('mpg ~  wt*vs/cyl+qsec+am+carb', data = mtcarsScaled).fit()\n",
    "#results = smf.ols('mpg ~ wt + cyl', data = mtcarsX).fit()\n",
    "print()\n",
    "print(resultsStd.summary())\n",
    "\n",
    "#'mpg ~  qsec + wt*vs/cyl+hp +drat+am' - 89.2 no mc and small cond num\n",
    "#mpg ~  wt*vs/cyl+qsec+am+carb - 88.6 no mc, more variables with lesser P>t and small cond num"
   ]
  },
  {
   "cell_type": "markdown",
   "id": "a0afe249",
   "metadata": {},
   "source": [
    "### Standardization of data set in OLS Regression\n",
    "\n",
    "Standardization of the dataset can help us in achieving higher performace and accuracy of the model. So here, all the features of the data set have been standardized as they have values in different ranges. Here the same features (mpg ~  wt*vs/cyl+ qsec+ am+ carb) as in the Multi-collinearity (VIF) model have been used  but this time, the data set fitted in the model has been standardized. This change alone has increased the efficiency with new R-Square to be 0.886. \n",
    "\n",
    "#### If the features are slightly changed to 'mpg ~  qsec + wt*vs/cyl+hp +drat+am' , R Squared is  89.2 with NO Multi-collinearity  and small condition number. \n",
    "\n",
    "#### However, 'mpg ~  wt*vs/cyl+qsec+am+carb' can be a better model although slightly lesses R Squared is  88.6 with NO Multi-collinearity  and small condition number, it has MORE FEATURES with lesser P>|t| values. "
   ]
  },
  {
   "cell_type": "markdown",
   "id": "a9322b82",
   "metadata": {},
   "source": [
    "# Final Model"
   ]
  },
  {
   "cell_type": "code",
   "execution_count": 27,
   "id": "48ecf55a",
   "metadata": {},
   "outputs": [
    {
     "name": "stdout",
     "output_type": "stream",
     "text": [
      "\n",
      "                            OLS Regression Results                            \n",
      "==============================================================================\n",
      "Dep. Variable:                    mpg   R-squared:                       0.879\n",
      "Model:                            OLS   Adj. R-squared:                  0.843\n",
      "Method:                 Least Squares   F-statistic:                     24.83\n",
      "Date:                Mon, 26 Sep 2022   Prob (F-statistic):           1.59e-09\n",
      "Time:                        22:59:41   Log-Likelihood:                -68.630\n",
      "No. Observations:                  32   AIC:                             153.3\n",
      "Df Residuals:                      24   BIC:                             165.0\n",
      "Df Model:                           7                                         \n",
      "Covariance Type:            nonrobust                                         \n",
      "==============================================================================\n",
      "                 coef    std err          t      P>|t|      [0.025      0.975]\n",
      "------------------------------------------------------------------------------\n",
      "Intercept      7.3669      9.615      0.766      0.451     -12.478      27.212\n",
      "wt            -3.3006      0.903     -3.656      0.001      -5.164      -1.438\n",
      "vs             8.2680      4.210      1.964      0.061      -0.421      16.957\n",
      "wt:vs         -4.1327      2.729     -1.514      0.143      -9.766       1.501\n",
      "wt:vs:cyl      0.2312      0.337      0.687      0.499      -0.464       0.926\n",
      "qsec           1.2675      0.544      2.329      0.029       0.144       2.391\n",
      "am             2.4879      1.602      1.553      0.134      -0.819       5.795\n",
      "carb          -0.1565      0.448     -0.349      0.730      -1.082       0.769\n",
      "==============================================================================\n",
      "Omnibus:                        1.613   Durbin-Watson:                   2.132\n",
      "Prob(Omnibus):                  0.446   Jarque-Bera (JB):                1.507\n",
      "Skew:                           0.469   Prob(JB):                        0.471\n",
      "Kurtosis:                       2.500   Cond. No.                         451.\n",
      "==============================================================================\n",
      "\n",
      "Notes:\n",
      "[1] Standard Errors assume that the covariance matrix of the errors is correctly specified.\n"
     ]
    }
   ],
   "source": [
    "resultsFinal = smf.ols('mpg ~  wt*vs/cyl+qsec+am+carb', data = mtcars).fit() #fitting the final model to the pre-standardized data set\n",
    "print()\n",
    "print(resultsFinal.summary())"
   ]
  },
  {
   "cell_type": "code",
   "execution_count": 28,
   "id": "e20df04d",
   "metadata": {},
   "outputs": [
    {
     "data": {
      "image/png": "[encoded data removed]",
      "text/plain": [
       "<Figure size 640x480 with 1 Axes>"
      ]
     },
     "metadata": {},
     "output_type": "display_data"
    }
   ],
   "source": [
    "## Visualizations ##\n",
    "\n",
    "## matplotlib ##\n",
    "import matplotlib.pyplot as plt\n",
    "\n",
    "# Scatter Plots #\n",
    "plt.scatter(x=mtcars.wt, y=mtcars.mpg, c=mtcars.am)\n",
    "plt.title('wt vs mpg by transmission')\n",
    "plt.xlabel('wt')\n",
    "plt.ylabel('mpg')\n",
    "plt.savefig('./mpgvswt.png')\n",
    "plt.show()"
   ]
  },
  {
   "cell_type": "code",
   "execution_count": 29,
   "id": "833170eb",
   "metadata": {},
   "outputs": [],
   "source": [
    "sns.set(style=\"ticks\")"
   ]
  },
  {
   "cell_type": "code",
   "execution_count": 30,
   "id": "fccb2a8d",
   "metadata": {},
   "outputs": [
    {
     "data": {
      "text/plain": [
       "<seaborn.axisgrid.FacetGrid at 0x21193490cd0>"
      ]
     },
     "execution_count": 30,
     "metadata": {},
     "output_type": "execute_result"
    },
    {
     "data": {
      "image/png": "[encoded data removed]",
      "text/plain": [
       "<Figure size 563.5x500 with 1 Axes>"
      ]
     },
     "metadata": {},
     "output_type": "display_data"
    }
   ],
   "source": [
    "# wt vs mpg by cyl\n",
    "sns.relplot(x='wt', y='mpg', hue='cyl', data=mtcars, legend='full')"
   ]
  },
  {
   "cell_type": "code",
   "execution_count": 31,
   "id": "c1023be4",
   "metadata": {},
   "outputs": [
    {
     "data": {
      "text/plain": [
       "<seaborn.axisgrid.FacetGrid at 0x211934c8070>"
      ]
     },
     "execution_count": 31,
     "metadata": {},
     "output_type": "execute_result"
    },
    {
     "data": {
      "image/png": "[encoded data removed]",
      "text/plain": [
       "<Figure size 563.5x500 with 1 Axes>"
      ]
     },
     "metadata": {},
     "output_type": "display_data"
    }
   ],
   "source": [
    "# wt vs mpg by am (transmission)\n",
    "sns.relplot(x='wt', y='mpg', hue='am', data=mtcars, legend='full')"
   ]
  },
  {
   "cell_type": "code",
   "execution_count": 32,
   "id": "ad90b399",
   "metadata": {},
   "outputs": [
    {
     "data": {
      "text/plain": [
       "<seaborn.axisgrid.FacetGrid at 0x2119841a4f0>"
      ]
     },
     "execution_count": 32,
     "metadata": {},
     "output_type": "execute_result"
    },
    {
     "data": {
      "image/png": "[encoded data removed]",
      "text/plain": [
       "<Figure size 563.5x500 with 1 Axes>"
      ]
     },
     "metadata": {},
     "output_type": "display_data"
    }
   ],
   "source": [
    "# wt vs mpg by gear\n",
    "sns.relplot(x='wt', y='mpg', hue='gear', data=mtcars, legend='full')"
   ]
  },
  {
   "cell_type": "code",
   "execution_count": 33,
   "id": "176c43a8",
   "metadata": {},
   "outputs": [
    {
     "data": {
      "text/plain": [
       "<seaborn.axisgrid.FacetGrid at 0x2119352d760>"
      ]
     },
     "execution_count": 33,
     "metadata": {},
     "output_type": "execute_result"
    },
    {
     "data": {
      "image/png": "[encoded data removed]",
      "text/plain": [
       "<Figure size 563.5x500 with 1 Axes>"
      ]
     },
     "metadata": {},
     "output_type": "display_data"
    }
   ],
   "source": [
    "# wt vs mpg by carb\n",
    "sns.relplot(x='wt', y='mpg', hue='carb', data=mtcars, legend='full')"
   ]
  },
  {
   "cell_type": "markdown",
   "id": "168de4da",
   "metadata": {},
   "source": [
    "# How to take next level Business decisions ?"
   ]
  },
  {
   "cell_type": "markdown",
   "id": "99992f2d",
   "metadata": {},
   "source": [
    "### Business Requirements:\n",
    "    \n",
    "    -To maximize the mpg (miles per gallon)\n",
    "   \n",
    "### Steps: \n",
    "\n",
    "    - A dataframe is created with independent variables that we chose from the above OLS model by applying the concepts of PCA, Domain Knowledge, Correlation, Multi-collinearity , Standardization and are given a range values. (for-loop)\n",
    "    - We then predict the 'mpg' array for all the combination rows.\n",
    "    - Filter the top 10 mpg valued rows to understand the other feature specifications \n",
    "    "
   ]
  },
  {
   "cell_type": "code",
   "execution_count": 34,
   "id": "fb1d4abc",
   "metadata": {},
   "outputs": [],
   "source": [
    "Specification_Data = pd.DataFrame(np.zeros((240,11)),columns=mtcarsZ.columns.to_list())\n",
    "#Specification_Data"
   ]
  },
  {
   "cell_type": "code",
   "execution_count": 35,
   "id": "c4140555",
   "metadata": {},
   "outputs": [],
   "source": [
    "Specification_DataSet = Specification_Data.drop('mpg', axis=1)\n",
    "#Specification_DataSet"
   ]
  },
  {
   "cell_type": "markdown",
   "id": "dfe8d8d2",
   "metadata": {},
   "source": [
    "### 'mpg ~  wt*vs/cyl+qsec+am+carb'"
   ]
  },
  {
   "cell_type": "code",
   "execution_count": 36,
   "id": "e7e093f1",
   "metadata": {},
   "outputs": [],
   "source": [
    "\n",
    "i = 0\n",
    "for cyl in [2,4,6]:\n",
    "    for qsec in range(14,24,3):\n",
    "        for wt in np.linspace(1.500,2.500,10,True):\n",
    "            for carb in [1,2]:\n",
    "                Specification_DataSet.iloc[i]['cyl'] = cyl #Scatterplot reference\n",
    "                Specification_DataSet.iloc[i]['qsec'] = qsec\n",
    "                Specification_DataSet.iloc[i]['wt'] = wt\n",
    "                Specification_DataSet.iloc[i]['carb'] = carb # 1 or 2 ideal for higher 'mpg' from scatterplot visualization\n",
    "                Specification_DataSet.iloc[i]['vs'] = 1\n",
    "                Specification_DataSet.iloc[i]['am'] = 1 #manual(am=1) has higher mpg ( from the visualization scatterplot 'wt vs mpg by am' )\n",
    "                Specification_DataSet.iloc[i]['gear'] = 4 #Value can be 3, 4 or 5 gears.  This value doesnt have an effect on the model prediction\n",
    "                Specification_DataSet.iloc[i]['disp'] = 100 #chose random value within the range for the 'disp' of mtcars dataset. This value doesnt have an effect on the model prediction\n",
    "                Specification_DataSet.iloc[i]['hp'] = 90 #given the median of the 'hp' of top ten 'mpg' brands from mtcars dataset.This value doesnt have an effect on the model prediction\n",
    "                Specification_DataSet.iloc[i]['drat'] = 3.700 #given the median of the 'drat' of mtcars dataset.This value doesnt have an effect on the model prediction\n",
    "                i = i +1\n",
    "            "
   ]
  },
  {
   "cell_type": "code",
   "execution_count": 37,
   "id": "9cb7e7dd",
   "metadata": {},
   "outputs": [
    {
     "data": {
      "text/html": [
       "<div>\n",
       "<style scoped>\n",
       "    .dataframe tbody tr th:only-of-type {\n",
       "        vertical-align: middle;\n",
       "    }\n",
       "\n",
       "    .dataframe tbody tr th {\n",
       "        vertical-align: top;\n",
       "    }\n",
       "\n",
       "    .dataframe thead th {\n",
       "        text-align: right;\n",
       "    }\n",
       "</style>\n",
       "<table border=\"1\" class=\"dataframe\">\n",
       "  <thead>\n",
       "    <tr style=\"text-align: right;\">\n",
       "      <th></th>\n",
       "      <th>cyl</th>\n",
       "      <th>disp</th>\n",
       "      <th>hp</th>\n",
       "      <th>drat</th>\n",
       "      <th>wt</th>\n",
       "      <th>qsec</th>\n",
       "      <th>vs</th>\n",
       "      <th>am</th>\n",
       "      <th>gear</th>\n",
       "      <th>carb</th>\n",
       "    </tr>\n",
       "  </thead>\n",
       "  <tbody>\n",
       "    <tr>\n",
       "      <th>0</th>\n",
       "      <td>2.0</td>\n",
       "      <td>100.0</td>\n",
       "      <td>90.0</td>\n",
       "      <td>3.7</td>\n",
       "      <td>1.500000</td>\n",
       "      <td>14.0</td>\n",
       "      <td>1.0</td>\n",
       "      <td>1.0</td>\n",
       "      <td>4.0</td>\n",
       "      <td>1.0</td>\n",
       "    </tr>\n",
       "    <tr>\n",
       "      <th>1</th>\n",
       "      <td>2.0</td>\n",
       "      <td>100.0</td>\n",
       "      <td>90.0</td>\n",
       "      <td>3.7</td>\n",
       "      <td>1.500000</td>\n",
       "      <td>14.0</td>\n",
       "      <td>1.0</td>\n",
       "      <td>1.0</td>\n",
       "      <td>4.0</td>\n",
       "      <td>2.0</td>\n",
       "    </tr>\n",
       "    <tr>\n",
       "      <th>2</th>\n",
       "      <td>2.0</td>\n",
       "      <td>100.0</td>\n",
       "      <td>90.0</td>\n",
       "      <td>3.7</td>\n",
       "      <td>1.611111</td>\n",
       "      <td>14.0</td>\n",
       "      <td>1.0</td>\n",
       "      <td>1.0</td>\n",
       "      <td>4.0</td>\n",
       "      <td>1.0</td>\n",
       "    </tr>\n",
       "    <tr>\n",
       "      <th>3</th>\n",
       "      <td>2.0</td>\n",
       "      <td>100.0</td>\n",
       "      <td>90.0</td>\n",
       "      <td>3.7</td>\n",
       "      <td>1.611111</td>\n",
       "      <td>14.0</td>\n",
       "      <td>1.0</td>\n",
       "      <td>1.0</td>\n",
       "      <td>4.0</td>\n",
       "      <td>2.0</td>\n",
       "    </tr>\n",
       "    <tr>\n",
       "      <th>4</th>\n",
       "      <td>2.0</td>\n",
       "      <td>100.0</td>\n",
       "      <td>90.0</td>\n",
       "      <td>3.7</td>\n",
       "      <td>1.722222</td>\n",
       "      <td>14.0</td>\n",
       "      <td>1.0</td>\n",
       "      <td>1.0</td>\n",
       "      <td>4.0</td>\n",
       "      <td>1.0</td>\n",
       "    </tr>\n",
       "    <tr>\n",
       "      <th>...</th>\n",
       "      <td>...</td>\n",
       "      <td>...</td>\n",
       "      <td>...</td>\n",
       "      <td>...</td>\n",
       "      <td>...</td>\n",
       "      <td>...</td>\n",
       "      <td>...</td>\n",
       "      <td>...</td>\n",
       "      <td>...</td>\n",
       "      <td>...</td>\n",
       "    </tr>\n",
       "    <tr>\n",
       "      <th>235</th>\n",
       "      <td>6.0</td>\n",
       "      <td>100.0</td>\n",
       "      <td>90.0</td>\n",
       "      <td>3.7</td>\n",
       "      <td>2.277778</td>\n",
       "      <td>23.0</td>\n",
       "      <td>1.0</td>\n",
       "      <td>1.0</td>\n",
       "      <td>4.0</td>\n",
       "      <td>2.0</td>\n",
       "    </tr>\n",
       "    <tr>\n",
       "      <th>236</th>\n",
       "      <td>6.0</td>\n",
       "      <td>100.0</td>\n",
       "      <td>90.0</td>\n",
       "      <td>3.7</td>\n",
       "      <td>2.388889</td>\n",
       "      <td>23.0</td>\n",
       "      <td>1.0</td>\n",
       "      <td>1.0</td>\n",
       "      <td>4.0</td>\n",
       "      <td>1.0</td>\n",
       "    </tr>\n",
       "    <tr>\n",
       "      <th>237</th>\n",
       "      <td>6.0</td>\n",
       "      <td>100.0</td>\n",
       "      <td>90.0</td>\n",
       "      <td>3.7</td>\n",
       "      <td>2.388889</td>\n",
       "      <td>23.0</td>\n",
       "      <td>1.0</td>\n",
       "      <td>1.0</td>\n",
       "      <td>4.0</td>\n",
       "      <td>2.0</td>\n",
       "    </tr>\n",
       "    <tr>\n",
       "      <th>238</th>\n",
       "      <td>6.0</td>\n",
       "      <td>100.0</td>\n",
       "      <td>90.0</td>\n",
       "      <td>3.7</td>\n",
       "      <td>2.500000</td>\n",
       "      <td>23.0</td>\n",
       "      <td>1.0</td>\n",
       "      <td>1.0</td>\n",
       "      <td>4.0</td>\n",
       "      <td>1.0</td>\n",
       "    </tr>\n",
       "    <tr>\n",
       "      <th>239</th>\n",
       "      <td>6.0</td>\n",
       "      <td>100.0</td>\n",
       "      <td>90.0</td>\n",
       "      <td>3.7</td>\n",
       "      <td>2.500000</td>\n",
       "      <td>23.0</td>\n",
       "      <td>1.0</td>\n",
       "      <td>1.0</td>\n",
       "      <td>4.0</td>\n",
       "      <td>2.0</td>\n",
       "    </tr>\n",
       "  </tbody>\n",
       "</table>\n",
       "<p>240 rows × 10 columns</p>\n",
       "</div>"
      ],
      "text/plain": [
       "     cyl   disp    hp  drat        wt  qsec   vs   am  gear  carb\n",
       "0    2.0  100.0  90.0   3.7  1.500000  14.0  1.0  1.0   4.0   1.0\n",
       "1    2.0  100.0  90.0   3.7  1.500000  14.0  1.0  1.0   4.0   2.0\n",
       "2    2.0  100.0  90.0   3.7  1.611111  14.0  1.0  1.0   4.0   1.0\n",
       "3    2.0  100.0  90.0   3.7  1.611111  14.0  1.0  1.0   4.0   2.0\n",
       "4    2.0  100.0  90.0   3.7  1.722222  14.0  1.0  1.0   4.0   1.0\n",
       "..   ...    ...   ...   ...       ...   ...  ...  ...   ...   ...\n",
       "235  6.0  100.0  90.0   3.7  2.277778  23.0  1.0  1.0   4.0   2.0\n",
       "236  6.0  100.0  90.0   3.7  2.388889  23.0  1.0  1.0   4.0   1.0\n",
       "237  6.0  100.0  90.0   3.7  2.388889  23.0  1.0  1.0   4.0   2.0\n",
       "238  6.0  100.0  90.0   3.7  2.500000  23.0  1.0  1.0   4.0   1.0\n",
       "239  6.0  100.0  90.0   3.7  2.500000  23.0  1.0  1.0   4.0   2.0\n",
       "\n",
       "[240 rows x 10 columns]"
      ]
     },
     "execution_count": 37,
     "metadata": {},
     "output_type": "execute_result"
    }
   ],
   "source": [
    "Specification_DataSet"
   ]
  },
  {
   "cell_type": "code",
   "execution_count": 38,
   "id": "6e086bac",
   "metadata": {},
   "outputs": [],
   "source": [
    "YPred=resultsFinal.predict(Specification_DataSet) #Predicted Y on test data\n",
    "#YPred"
   ]
  },
  {
   "cell_type": "code",
   "execution_count": 39,
   "id": "59fd77cd",
   "metadata": {},
   "outputs": [
    {
     "data": {
      "text/html": [
       "<div>\n",
       "<style scoped>\n",
       "    .dataframe tbody tr th:only-of-type {\n",
       "        vertical-align: middle;\n",
       "    }\n",
       "\n",
       "    .dataframe tbody tr th {\n",
       "        vertical-align: top;\n",
       "    }\n",
       "\n",
       "    .dataframe thead th {\n",
       "        text-align: right;\n",
       "    }\n",
       "</style>\n",
       "<table border=\"1\" class=\"dataframe\">\n",
       "  <thead>\n",
       "    <tr style=\"text-align: right;\">\n",
       "      <th></th>\n",
       "      <th>cyl</th>\n",
       "      <th>disp</th>\n",
       "      <th>hp</th>\n",
       "      <th>drat</th>\n",
       "      <th>wt</th>\n",
       "      <th>qsec</th>\n",
       "      <th>vs</th>\n",
       "      <th>am</th>\n",
       "      <th>gear</th>\n",
       "      <th>carb</th>\n",
       "      <th>mpg</th>\n",
       "    </tr>\n",
       "  </thead>\n",
       "  <tbody>\n",
       "    <tr>\n",
       "      <th>0</th>\n",
       "      <td>2.0</td>\n",
       "      <td>100.0</td>\n",
       "      <td>90.0</td>\n",
       "      <td>3.7</td>\n",
       "      <td>1.500000</td>\n",
       "      <td>14.0</td>\n",
       "      <td>1.0</td>\n",
       "      <td>1.0</td>\n",
       "      <td>4.0</td>\n",
       "      <td>1.0</td>\n",
       "      <td>25.255242</td>\n",
       "    </tr>\n",
       "    <tr>\n",
       "      <th>1</th>\n",
       "      <td>2.0</td>\n",
       "      <td>100.0</td>\n",
       "      <td>90.0</td>\n",
       "      <td>3.7</td>\n",
       "      <td>1.500000</td>\n",
       "      <td>14.0</td>\n",
       "      <td>1.0</td>\n",
       "      <td>1.0</td>\n",
       "      <td>4.0</td>\n",
       "      <td>2.0</td>\n",
       "      <td>25.098783</td>\n",
       "    </tr>\n",
       "    <tr>\n",
       "      <th>2</th>\n",
       "      <td>2.0</td>\n",
       "      <td>100.0</td>\n",
       "      <td>90.0</td>\n",
       "      <td>3.7</td>\n",
       "      <td>1.611111</td>\n",
       "      <td>14.0</td>\n",
       "      <td>1.0</td>\n",
       "      <td>1.0</td>\n",
       "      <td>4.0</td>\n",
       "      <td>1.0</td>\n",
       "      <td>24.480694</td>\n",
       "    </tr>\n",
       "    <tr>\n",
       "      <th>3</th>\n",
       "      <td>2.0</td>\n",
       "      <td>100.0</td>\n",
       "      <td>90.0</td>\n",
       "      <td>3.7</td>\n",
       "      <td>1.611111</td>\n",
       "      <td>14.0</td>\n",
       "      <td>1.0</td>\n",
       "      <td>1.0</td>\n",
       "      <td>4.0</td>\n",
       "      <td>2.0</td>\n",
       "      <td>24.324235</td>\n",
       "    </tr>\n",
       "    <tr>\n",
       "      <th>4</th>\n",
       "      <td>2.0</td>\n",
       "      <td>100.0</td>\n",
       "      <td>90.0</td>\n",
       "      <td>3.7</td>\n",
       "      <td>1.722222</td>\n",
       "      <td>14.0</td>\n",
       "      <td>1.0</td>\n",
       "      <td>1.0</td>\n",
       "      <td>4.0</td>\n",
       "      <td>1.0</td>\n",
       "      <td>23.706146</td>\n",
       "    </tr>\n",
       "    <tr>\n",
       "      <th>...</th>\n",
       "      <td>...</td>\n",
       "      <td>...</td>\n",
       "      <td>...</td>\n",
       "      <td>...</td>\n",
       "      <td>...</td>\n",
       "      <td>...</td>\n",
       "      <td>...</td>\n",
       "      <td>...</td>\n",
       "      <td>...</td>\n",
       "      <td>...</td>\n",
       "      <td>...</td>\n",
       "    </tr>\n",
       "    <tr>\n",
       "      <th>235</th>\n",
       "      <td>6.0</td>\n",
       "      <td>100.0</td>\n",
       "      <td>90.0</td>\n",
       "      <td>3.7</td>\n",
       "      <td>2.277778</td>\n",
       "      <td>23.0</td>\n",
       "      <td>1.0</td>\n",
       "      <td>1.0</td>\n",
       "      <td>4.0</td>\n",
       "      <td>2.0</td>\n",
       "      <td>33.190995</td>\n",
       "    </tr>\n",
       "    <tr>\n",
       "      <th>236</th>\n",
       "      <td>6.0</td>\n",
       "      <td>100.0</td>\n",
       "      <td>90.0</td>\n",
       "      <td>3.7</td>\n",
       "      <td>2.388889</td>\n",
       "      <td>23.0</td>\n",
       "      <td>1.0</td>\n",
       "      <td>1.0</td>\n",
       "      <td>4.0</td>\n",
       "      <td>1.0</td>\n",
       "      <td>32.675659</td>\n",
       "    </tr>\n",
       "    <tr>\n",
       "      <th>237</th>\n",
       "      <td>6.0</td>\n",
       "      <td>100.0</td>\n",
       "      <td>90.0</td>\n",
       "      <td>3.7</td>\n",
       "      <td>2.388889</td>\n",
       "      <td>23.0</td>\n",
       "      <td>1.0</td>\n",
       "      <td>1.0</td>\n",
       "      <td>4.0</td>\n",
       "      <td>2.0</td>\n",
       "      <td>32.519200</td>\n",
       "    </tr>\n",
       "    <tr>\n",
       "      <th>238</th>\n",
       "      <td>6.0</td>\n",
       "      <td>100.0</td>\n",
       "      <td>90.0</td>\n",
       "      <td>3.7</td>\n",
       "      <td>2.500000</td>\n",
       "      <td>23.0</td>\n",
       "      <td>1.0</td>\n",
       "      <td>1.0</td>\n",
       "      <td>4.0</td>\n",
       "      <td>1.0</td>\n",
       "      <td>32.003864</td>\n",
       "    </tr>\n",
       "    <tr>\n",
       "      <th>239</th>\n",
       "      <td>6.0</td>\n",
       "      <td>100.0</td>\n",
       "      <td>90.0</td>\n",
       "      <td>3.7</td>\n",
       "      <td>2.500000</td>\n",
       "      <td>23.0</td>\n",
       "      <td>1.0</td>\n",
       "      <td>1.0</td>\n",
       "      <td>4.0</td>\n",
       "      <td>2.0</td>\n",
       "      <td>31.847405</td>\n",
       "    </tr>\n",
       "  </tbody>\n",
       "</table>\n",
       "<p>240 rows × 11 columns</p>\n",
       "</div>"
      ],
      "text/plain": [
       "     cyl   disp    hp  drat        wt  qsec   vs   am  gear  carb        mpg\n",
       "0    2.0  100.0  90.0   3.7  1.500000  14.0  1.0  1.0   4.0   1.0  25.255242\n",
       "1    2.0  100.0  90.0   3.7  1.500000  14.0  1.0  1.0   4.0   2.0  25.098783\n",
       "2    2.0  100.0  90.0   3.7  1.611111  14.0  1.0  1.0   4.0   1.0  24.480694\n",
       "3    2.0  100.0  90.0   3.7  1.611111  14.0  1.0  1.0   4.0   2.0  24.324235\n",
       "4    2.0  100.0  90.0   3.7  1.722222  14.0  1.0  1.0   4.0   1.0  23.706146\n",
       "..   ...    ...   ...   ...       ...   ...  ...  ...   ...   ...        ...\n",
       "235  6.0  100.0  90.0   3.7  2.277778  23.0  1.0  1.0   4.0   2.0  33.190995\n",
       "236  6.0  100.0  90.0   3.7  2.388889  23.0  1.0  1.0   4.0   1.0  32.675659\n",
       "237  6.0  100.0  90.0   3.7  2.388889  23.0  1.0  1.0   4.0   2.0  32.519200\n",
       "238  6.0  100.0  90.0   3.7  2.500000  23.0  1.0  1.0   4.0   1.0  32.003864\n",
       "239  6.0  100.0  90.0   3.7  2.500000  23.0  1.0  1.0   4.0   2.0  31.847405\n",
       "\n",
       "[240 rows x 11 columns]"
      ]
     },
     "execution_count": 39,
     "metadata": {},
     "output_type": "execute_result"
    }
   ],
   "source": [
    "Specification_DataSet['mpg'] =YPred\n",
    "Specification_DataSet # Printing the table with predicted 'mpg' values along with the values of the picked features from the OLS model."
   ]
  },
  {
   "cell_type": "code",
   "execution_count": 40,
   "id": "ba8b5099",
   "metadata": {},
   "outputs": [
    {
     "data": {
      "text/plain": [
       "count    240.000000\n",
       "mean      28.320130\n",
       "std        4.803709\n",
       "min       18.127854\n",
       "25%       24.497033\n",
       "50%       28.294126\n",
       "75%       32.091219\n",
       "max       38.050020\n",
       "dtype: float64"
      ]
     },
     "execution_count": 40,
     "metadata": {},
     "output_type": "execute_result"
    }
   ],
   "source": [
    "YPred.describe()  "
   ]
  },
  {
   "cell_type": "markdown",
   "id": "92b04582",
   "metadata": {},
   "source": [
    "### Understanding the descriptive statistics of the predicted 'mpg' values.\n",
    "\n",
    "-The predicted model (YPred) shows that 25% of the mpg values are higher than 32 miles/gallon.\n",
    "\n",
    "-The median of the mpg values (YPred) is 28.3 while the actual mtcars data set has a median 'mpg' value of 19.2 miles/gallon.\n"
   ]
  },
  {
   "cell_type": "code",
   "execution_count": 41,
   "id": "2bc3f3e2",
   "metadata": {},
   "outputs": [
    {
     "data": {
      "text/html": [
       "<div>\n",
       "<style scoped>\n",
       "    .dataframe tbody tr th:only-of-type {\n",
       "        vertical-align: middle;\n",
       "    }\n",
       "\n",
       "    .dataframe tbody tr th {\n",
       "        vertical-align: top;\n",
       "    }\n",
       "\n",
       "    .dataframe thead th {\n",
       "        text-align: right;\n",
       "    }\n",
       "</style>\n",
       "<table border=\"1\" class=\"dataframe\">\n",
       "  <thead>\n",
       "    <tr style=\"text-align: right;\">\n",
       "      <th></th>\n",
       "      <th>cyl</th>\n",
       "      <th>disp</th>\n",
       "      <th>hp</th>\n",
       "      <th>drat</th>\n",
       "      <th>wt</th>\n",
       "      <th>qsec</th>\n",
       "      <th>vs</th>\n",
       "      <th>am</th>\n",
       "      <th>gear</th>\n",
       "      <th>carb</th>\n",
       "      <th>mpg</th>\n",
       "    </tr>\n",
       "  </thead>\n",
       "  <tbody>\n",
       "    <tr>\n",
       "      <th>220</th>\n",
       "      <td>6.0</td>\n",
       "      <td>100.0</td>\n",
       "      <td>90.0</td>\n",
       "      <td>3.7</td>\n",
       "      <td>1.500000</td>\n",
       "      <td>23.0</td>\n",
       "      <td>1.0</td>\n",
       "      <td>1.0</td>\n",
       "      <td>4.0</td>\n",
       "      <td>1.0</td>\n",
       "      <td>38.050020</td>\n",
       "    </tr>\n",
       "    <tr>\n",
       "      <th>221</th>\n",
       "      <td>6.0</td>\n",
       "      <td>100.0</td>\n",
       "      <td>90.0</td>\n",
       "      <td>3.7</td>\n",
       "      <td>1.500000</td>\n",
       "      <td>23.0</td>\n",
       "      <td>1.0</td>\n",
       "      <td>1.0</td>\n",
       "      <td>4.0</td>\n",
       "      <td>2.0</td>\n",
       "      <td>37.893561</td>\n",
       "    </tr>\n",
       "    <tr>\n",
       "      <th>222</th>\n",
       "      <td>6.0</td>\n",
       "      <td>100.0</td>\n",
       "      <td>90.0</td>\n",
       "      <td>3.7</td>\n",
       "      <td>1.611111</td>\n",
       "      <td>23.0</td>\n",
       "      <td>1.0</td>\n",
       "      <td>1.0</td>\n",
       "      <td>4.0</td>\n",
       "      <td>1.0</td>\n",
       "      <td>37.378225</td>\n",
       "    </tr>\n",
       "    <tr>\n",
       "      <th>140</th>\n",
       "      <td>4.0</td>\n",
       "      <td>100.0</td>\n",
       "      <td>90.0</td>\n",
       "      <td>3.7</td>\n",
       "      <td>1.500000</td>\n",
       "      <td>23.0</td>\n",
       "      <td>1.0</td>\n",
       "      <td>1.0</td>\n",
       "      <td>4.0</td>\n",
       "      <td>1.0</td>\n",
       "      <td>37.356440</td>\n",
       "    </tr>\n",
       "    <tr>\n",
       "      <th>223</th>\n",
       "      <td>6.0</td>\n",
       "      <td>100.0</td>\n",
       "      <td>90.0</td>\n",
       "      <td>3.7</td>\n",
       "      <td>1.611111</td>\n",
       "      <td>23.0</td>\n",
       "      <td>1.0</td>\n",
       "      <td>1.0</td>\n",
       "      <td>4.0</td>\n",
       "      <td>2.0</td>\n",
       "      <td>37.221766</td>\n",
       "    </tr>\n",
       "    <tr>\n",
       "      <th>141</th>\n",
       "      <td>4.0</td>\n",
       "      <td>100.0</td>\n",
       "      <td>90.0</td>\n",
       "      <td>3.7</td>\n",
       "      <td>1.500000</td>\n",
       "      <td>23.0</td>\n",
       "      <td>1.0</td>\n",
       "      <td>1.0</td>\n",
       "      <td>4.0</td>\n",
       "      <td>2.0</td>\n",
       "      <td>37.199982</td>\n",
       "    </tr>\n",
       "    <tr>\n",
       "      <th>224</th>\n",
       "      <td>6.0</td>\n",
       "      <td>100.0</td>\n",
       "      <td>90.0</td>\n",
       "      <td>3.7</td>\n",
       "      <td>1.722222</td>\n",
       "      <td>23.0</td>\n",
       "      <td>1.0</td>\n",
       "      <td>1.0</td>\n",
       "      <td>4.0</td>\n",
       "      <td>1.0</td>\n",
       "      <td>36.706430</td>\n",
       "    </tr>\n",
       "    <tr>\n",
       "      <th>60</th>\n",
       "      <td>2.0</td>\n",
       "      <td>100.0</td>\n",
       "      <td>90.0</td>\n",
       "      <td>3.7</td>\n",
       "      <td>1.500000</td>\n",
       "      <td>23.0</td>\n",
       "      <td>1.0</td>\n",
       "      <td>1.0</td>\n",
       "      <td>4.0</td>\n",
       "      <td>1.0</td>\n",
       "      <td>36.662860</td>\n",
       "    </tr>\n",
       "    <tr>\n",
       "      <th>142</th>\n",
       "      <td>4.0</td>\n",
       "      <td>100.0</td>\n",
       "      <td>90.0</td>\n",
       "      <td>3.7</td>\n",
       "      <td>1.611111</td>\n",
       "      <td>23.0</td>\n",
       "      <td>1.0</td>\n",
       "      <td>1.0</td>\n",
       "      <td>4.0</td>\n",
       "      <td>1.0</td>\n",
       "      <td>36.633269</td>\n",
       "    </tr>\n",
       "    <tr>\n",
       "      <th>225</th>\n",
       "      <td>6.0</td>\n",
       "      <td>100.0</td>\n",
       "      <td>90.0</td>\n",
       "      <td>3.7</td>\n",
       "      <td>1.722222</td>\n",
       "      <td>23.0</td>\n",
       "      <td>1.0</td>\n",
       "      <td>1.0</td>\n",
       "      <td>4.0</td>\n",
       "      <td>2.0</td>\n",
       "      <td>36.549971</td>\n",
       "    </tr>\n",
       "  </tbody>\n",
       "</table>\n",
       "</div>"
      ],
      "text/plain": [
       "     cyl   disp    hp  drat        wt  qsec   vs   am  gear  carb        mpg\n",
       "220  6.0  100.0  90.0   3.7  1.500000  23.0  1.0  1.0   4.0   1.0  38.050020\n",
       "221  6.0  100.0  90.0   3.7  1.500000  23.0  1.0  1.0   4.0   2.0  37.893561\n",
       "222  6.0  100.0  90.0   3.7  1.611111  23.0  1.0  1.0   4.0   1.0  37.378225\n",
       "140  4.0  100.0  90.0   3.7  1.500000  23.0  1.0  1.0   4.0   1.0  37.356440\n",
       "223  6.0  100.0  90.0   3.7  1.611111  23.0  1.0  1.0   4.0   2.0  37.221766\n",
       "141  4.0  100.0  90.0   3.7  1.500000  23.0  1.0  1.0   4.0   2.0  37.199982\n",
       "224  6.0  100.0  90.0   3.7  1.722222  23.0  1.0  1.0   4.0   1.0  36.706430\n",
       "60   2.0  100.0  90.0   3.7  1.500000  23.0  1.0  1.0   4.0   1.0  36.662860\n",
       "142  4.0  100.0  90.0   3.7  1.611111  23.0  1.0  1.0   4.0   1.0  36.633269\n",
       "225  6.0  100.0  90.0   3.7  1.722222  23.0  1.0  1.0   4.0   2.0  36.549971"
      ]
     },
     "execution_count": 41,
     "metadata": {},
     "output_type": "execute_result"
    }
   ],
   "source": [
    "Specification_DataSet.nlargest(n=10, columns=['mpg'],keep='first') #printing the top 10 largest mpg values along with different combinations of the features. "
   ]
  },
  {
   "cell_type": "markdown",
   "id": "9f47c69e",
   "metadata": {},
   "source": [
    "# Competetion Brands with similar Product Specifications: "
   ]
  },
  {
   "attachments": {
    "Screenshot%202022-09-26%20151154.png": {
     "image/png": "[encoded data removed]"
    }
   },
   "cell_type": "markdown",
   "id": "d37c759e",
   "metadata": {},
   "source": [
    "![Screenshot%202022-09-26%20151154.png](attachment:Screenshot%202022-09-26%20151154.png)"
   ]
  },
  {
   "cell_type": "markdown",
   "id": "4a0b0ef9",
   "metadata": {},
   "source": [
    "# Conclusion:\n",
    "\n",
    "- Finally, this data can be compared with our original mtcars data set to understand which model is close to the competetion.\n",
    "    - This process might also help us in making other business related decisions such as pricing, marketing, staying competetive in the market, etc. "
   ]
  },
  {
   "cell_type": "code",
   "execution_count": null,
   "id": "27975acb",
   "metadata": {},
   "outputs": [],
   "source": []
  }
 ],
 "metadata": {
  "kernelspec": {
   "display_name": "Python 3 (ipykernel)",
   "language": "python",
   "name": "python3"
  },
  "language_info": {
   "codemirror_mode": {
    "name": "ipython",
    "version": 3
   },
   "file_extension": ".py",
   "mimetype": "text/x-python",
   "name": "python",
   "nbconvert_exporter": "python",
   "pygments_lexer": "ipython3",
   "version": "3.9.13"
  }
 },
 "nbformat": 4,
 "nbformat_minor": 5
}
